{
  "nbformat": 4,
  "nbformat_minor": 0,
  "metadata": {
    "colab": {
      "name": "Test_version_3_01-09-2021.ipynb",
      "provenance": [],
      "collapsed_sections": [
        "XMiX7XYXc7DK",
        "kftceksTWfzf",
        "YX-yQU9x596D",
        "kESs6OAa3plj",
        "WfvJpzLTi245",
        "iwVa8t-5-MlN",
        "ZqVUj1Ou3ygD",
        "ISP2EJ7m3ygK",
        "lieKBbY13ygL",
        "VcWXjqfrf5G4",
        "Ads_wXdr336w",
        "ADqG6EbBe1oy",
        "VCXDd-3oWy5e",
        "y_9_aa5tsGXD",
        "Vfcl-WrAqSW6",
        "1xCXHGwaqSW6",
        "MNXhptJHqSW7",
        "gWct6ShkqSW8",
        "fHUwgIBFqdgq",
        "RGBHeWJnfhfX",
        "8uy-Uc6bfREG"
      ]
    },
    "kernelspec": {
      "name": "python3",
      "display_name": "Python 3"
    },
    "language_info": {
      "name": "python"
    }
  },
  "cells": [
    {
      "cell_type": "markdown",
      "metadata": {
        "id": "XMiX7XYXc7DK"
      },
      "source": [
        "# PROJET 5 - Catégorisez automatiquement des questions"
      ]
    },
    {
      "cell_type": "markdown",
      "metadata": {
        "id": "-klmxRmP0zTH"
      },
      "source": [
        "Le projet est disponible sur https://github.com/KenzaQ/P5_OC_Parcours_IML et l'application développée sur https://app-suggestion-tags-p5-oc.herokuapp.com/."
      ]
    },
    {
      "cell_type": "markdown",
      "metadata": {
        "id": "kftceksTWfzf"
      },
      "source": [
        "# Importation des librairies"
      ]
    },
    {
      "cell_type": "code",
      "metadata": {
        "id": "21sVa5K2Wkl8"
      },
      "source": [
        "import pandas as pd\n",
        "import matplotlib.pyplot as plt\n",
        "import seaborn as sns\n",
        "import numpy as np\n",
        "\n",
        "from sklearn.linear_model import LogisticRegression, SGDClassifier\n",
        "from sklearn.multiclass import OneVsRestClassifier, OneVsOneClassifier\n",
        "from sklearn.svm import SVC, LinearSVC\n",
        "\n",
        "from sklearn.metrics import f1_score, make_scorer, accuracy_score, jaccard_score, multilabel_confusion_matrix, make_scorer\n",
        "from sklearn.model_selection import train_test_split, GridSearchCV\n",
        "from sklearn.feature_extraction.text import TfidfVectorizer\n",
        "\n",
        "import timeit\n",
        "from joblib import dump, load"
      ],
      "execution_count": null,
      "outputs": []
    },
    {
      "cell_type": "markdown",
      "metadata": {
        "id": "YX-yQU9x596D"
      },
      "source": [
        "# Chargement des jeux de données"
      ]
    },
    {
      "cell_type": "code",
      "metadata": {
        "id": "u_zG4I1I6kBw"
      },
      "source": [
        "data = pd.read_csv('QueryResults_clean.csv', sep = \",\", na_filter=False)"
      ],
      "execution_count": null,
      "outputs": []
    },
    {
      "cell_type": "markdown",
      "metadata": {
        "id": "kESs6OAa3plj"
      },
      "source": [
        "# Définition des fonctions"
      ]
    },
    {
      "cell_type": "code",
      "metadata": {
        "id": "AJIbb-UU3sLz"
      },
      "source": [
        "from sklearn.metrics import make_scorer\n",
        "\n",
        "def cross_validation(X_train,y_train, param_grid, MODELE, CV):\n",
        "  score = 'accuracy'\n",
        "\n",
        "  # Créer un classifieur avec recherche d'hyperparamètre par validation croisée\n",
        "  model = GridSearchCV(MODELE, param_grid, cv=CV, scoring = score) \n",
        "\n",
        "  # Optimiser ce classifieur sur le jeu d'entraînement\n",
        "  mod = model.fit(X_train, y_train)\n",
        " \n",
        "  return model.best_params_, mod"
      ],
      "execution_count": null,
      "outputs": []
    },
    {
      "cell_type": "code",
      "metadata": {
        "id": "ErhrAfPU3sLz"
      },
      "source": [
        "def resultats_cross_validation(model_best_params_, model):\n",
        "  #score = make_scorer(metrics.r2_score)\n",
        "  score = 'accuracy'\n",
        "\n",
        "  # Afficher le(s) hyperparamètre(s) optimaux\n",
        "  print(\"Meilleur(s) hyperparamètre(s) sur le jeu d'entraînement:\")\n",
        "  print(model_best_params_)\n",
        "  \n",
        "  # Afficher les performances correspondantes\n",
        "  print(\"Résultats de la validation croisée :\")\n",
        "  for mean, std, params in zip(model.cv_results_['mean_test_score'], model.cv_results_['std_test_score'], model.cv_results_['params']):\n",
        "    print(\"{} = {:.3f} (+/-{:.03f}) for {}\".format(score, mean, std*2, params))"
      ],
      "execution_count": null,
      "outputs": []
    },
    {
      "cell_type": "code",
      "metadata": {
        "id": "QodWjLxq3sLz"
      },
      "source": [
        "def modele_hyperparametre(nom_modele, X_train,y_train, X_test, y_test, model_best_params_, mod):\n",
        "  ## On a maintenant l'hyperparamètre optimal trouvé par validation croisée\n",
        "  \n",
        "  ## Calcul des vitesses d'éxécution\n",
        "  start_time = timeit.default_timer()\n",
        "\n",
        "  # Résultats sur le jeu d'entraînement\n",
        "  y_train_predict = mod.predict(X_train)\n",
        "  elapsed_1 = timeit.default_timer() - start_time\n",
        "  accuracy_score_train = accuracy_score(y_train, y_train_predict)\n",
        "  jaccard_score_train = jaccard_score(y_train, y_train_predict, average='micro')\n",
        "  f1_score_train = f1_score(y_train, y_train_predict, average='micro')\n",
        "\n",
        "  # Prédiction sur le jeu de données test\n",
        "  y_pred_model = mod.predict(X_test)\n",
        "  elapsed_2 = timeit.default_timer() - start_time\n",
        "  accuracy_score_test = accuracy_score(y_test, y_pred_model)\n",
        "  jaccard_score_test = jaccard_score(y_test, y_pred_model, average='micro')\n",
        "  f1_score_test = f1_score(y_test, y_pred_model, average='micro')\n",
        "\n",
        "  liste_resultats = [nom_modele, accuracy_score_train, jaccard_score_train, f1_score_train, accuracy_score_test, jaccard_score_test, f1_score_test, elapsed_1, elapsed_2, model_best_params_]\n",
        "\n",
        "  return liste_resultats, y_pred_model, mod"
      ],
      "execution_count": null,
      "outputs": []
    },
    {
      "cell_type": "markdown",
      "metadata": {
        "id": "WfvJpzLTi245"
      },
      "source": [
        "# Approche supervisée : Classification des Tags à partir des messages normalisés sur Body"
      ]
    },
    {
      "cell_type": "markdown",
      "metadata": {
        "id": "iwVa8t-5-MlN"
      },
      "source": [
        "## Création des jeux de données"
      ]
    },
    {
      "cell_type": "code",
      "metadata": {
        "id": "aod1ssd_L0aH",
        "colab": {
          "base_uri": "https://localhost:8080/"
        },
        "outputId": "b56a873d-a04f-49fe-9ecf-455b3a9de402"
      },
      "source": [
        "## Vectorisation tf-idf des messages Body\n",
        "\n",
        "tf_idf_vec = TfidfVectorizer() \n",
        "tf_idf_data_body = tf_idf_vec.fit_transform(data['Body_nettoye_stopwords'])\n",
        "tf_idf_data_body"
      ],
      "execution_count": null,
      "outputs": [
        {
          "output_type": "execute_result",
          "data": {
            "text/plain": [
              "<48447x75779 sparse matrix of type '<class 'numpy.float64'>'\n",
              "\twith 731116 stored elements in Compressed Sparse Row format>"
            ]
          },
          "metadata": {},
          "execution_count": 7
        }
      ]
    },
    {
      "cell_type": "code",
      "metadata": {
        "colab": {
          "base_uri": "https://localhost:8080/"
        },
        "id": "wU3_E8G5c0tz",
        "outputId": "459b2c57-7d76-4041-d56c-47e5fd1122e1"
      },
      "source": [
        "tf_idf_data_body.shape"
      ],
      "execution_count": null,
      "outputs": [
        {
          "output_type": "execute_result",
          "data": {
            "text/plain": [
              "(48447, 75779)"
            ]
          },
          "metadata": {},
          "execution_count": 8
        }
      ]
    },
    {
      "cell_type": "code",
      "metadata": {
        "colab": {
          "base_uri": "https://localhost:8080/"
        },
        "id": "uuOs5FW_VVr-",
        "outputId": "9341adfe-0333-48ab-c05f-13fe4572fbac"
      },
      "source": [
        "data['Tags_nettoyes_liste'] = data.apply(lambda row : row['Tags_nettoyes'].split(', '), axis=1)\n",
        "target = pd.get_dummies(data['Tags_nettoyes_liste'].apply(pd.Series).stack()).sum(level=0)\n",
        "target = target.iloc[:, 1:]\n",
        "target.shape"
      ],
      "execution_count": null,
      "outputs": [
        {
          "output_type": "execute_result",
          "data": {
            "text/plain": [
              "(48447, 100)"
            ]
          },
          "metadata": {},
          "execution_count": 9
        }
      ]
    },
    {
      "cell_type": "code",
      "metadata": {
        "colab": {
          "base_uri": "https://localhost:8080/"
        },
        "id": "KZtEKwuY4ADP",
        "outputId": "f444011b-c6d1-425b-f3dd-fc14e1edd60d"
      },
      "source": [
        "## Séparation en jeu de données d'entrainement et de test\n",
        "\n",
        "X_train, X_test, y_train, y_test = train_test_split(tf_idf_data_body, target, test_size=0.3) # 30% des données dans le jeu de test\n",
        "\n",
        "print(X_train.shape)\n",
        "print(X_test.shape)\n",
        "print(y_train.shape)\n",
        "print(y_test.shape)"
      ],
      "execution_count": null,
      "outputs": [
        {
          "output_type": "stream",
          "name": "stdout",
          "text": [
            "(33912, 75779)\n",
            "(14535, 75779)\n",
            "(33912, 100)\n",
            "(14535, 100)\n"
          ]
        }
      ]
    },
    {
      "cell_type": "markdown",
      "metadata": {
        "id": "ZqVUj1Ou3ygD"
      },
      "source": [
        "## Analyse sur le jeu d'entraînement et sélection des hyperparamètres par validation croisée"
      ]
    },
    {
      "cell_type": "markdown",
      "metadata": {
        "id": "ISP2EJ7m3ygK"
      },
      "source": [
        "### One-versus-rest + LogisticRegression()"
      ]
    },
    {
      "cell_type": "code",
      "metadata": {
        "id": "IBxrB8iE8fn3",
        "colab": {
          "base_uri": "https://localhost:8080/"
        },
        "outputId": "6c3dccca-e256-46ed-e261-31fbf7bedc87"
      },
      "source": [
        "param_grid = {'estimator__C' : [10, 1, 0.01, 0.001], 'estimator__penalty' : ['l1', 'l2']}\n",
        "\n",
        "ovr_classifier = OneVsRestClassifier(LogisticRegression(n_jobs=-1, solver='saga'))\n",
        "\n",
        "ovr_LogisticRegression = cross_validation(X_train,y_train, param_grid, ovr_classifier, 3)\n",
        "resultats_cross_validation(ovr_LogisticRegression[0], ovr_LogisticRegression[1])"
      ],
      "execution_count": null,
      "outputs": [
        {
          "output_type": "stream",
          "text": [
            "Meilleur(s) hyperparamètre(s) sur le jeu d'entraînement:\n",
            "{'estimator__C': 10, 'estimator__penalty': 'l1'}\n",
            "Résultats de la validation croisée :\n",
            "accuracy = 0.252 (+/-0.006) for {'estimator__C': 10, 'estimator__penalty': 'l1'}\n",
            "accuracy = 0.243 (+/-0.006) for {'estimator__C': 10, 'estimator__penalty': 'l2'}\n",
            "accuracy = 0.236 (+/-0.007) for {'estimator__C': 1, 'estimator__penalty': 'l1'}\n",
            "accuracy = 0.185 (+/-0.006) for {'estimator__C': 1, 'estimator__penalty': 'l2'}\n",
            "accuracy = 0.083 (+/-0.004) for {'estimator__C': 0.01, 'estimator__penalty': 'l1'}\n",
            "accuracy = 0.080 (+/-0.004) for {'estimator__C': 0.01, 'estimator__penalty': 'l2'}\n",
            "accuracy = 0.080 (+/-0.004) for {'estimator__C': 0.001, 'estimator__penalty': 'l1'}\n",
            "accuracy = 0.080 (+/-0.004) for {'estimator__C': 0.001, 'estimator__penalty': 'l2'}\n"
          ],
          "name": "stdout"
        }
      ]
    },
    {
      "cell_type": "code",
      "metadata": {
        "id": "6QOPOxmk8foH"
      },
      "source": [
        "ovr_LogisticRegression_modele = modele_hyperparametre('OVR + LogisticRegression', X_train,y_train, X_test, y_test, ovr_LogisticRegression[0], ovr_LogisticRegression[1])"
      ],
      "execution_count": null,
      "outputs": []
    },
    {
      "cell_type": "markdown",
      "metadata": {
        "id": "lieKBbY13ygL"
      },
      "source": [
        "### One-versus-rest + LinearSVC()"
      ]
    },
    {
      "cell_type": "code",
      "metadata": {
        "id": "abHam5wQ3-4R",
        "colab": {
          "base_uri": "https://localhost:8080/"
        },
        "outputId": "748c8d62-d6cc-447d-b34f-a7371ec4c1a2"
      },
      "source": [
        "param_grid = {'estimator__C' : [100, 10, 1, 0.01, 0.001], 'estimator__penalty': ['l1', 'l2']}\n",
        "\n",
        "ovr_classifier = OneVsRestClassifier(LinearSVC(dual= False))\n",
        "\n",
        "ovr_LinearSVC = cross_validation(X_train,y_train, param_grid, ovr_classifier, 3)\n",
        "resultats_cross_validation(ovr_LinearSVC[0], ovr_LinearSVC[1])"
      ],
      "execution_count": null,
      "outputs": [
        {
          "output_type": "stream",
          "text": [
            "/usr/local/lib/python3.7/dist-packages/sklearn/svm/_base.py:947: ConvergenceWarning: Liblinear failed to converge, increase the number of iterations.\n",
            "  \"the number of iterations.\", ConvergenceWarning)\n",
            "/usr/local/lib/python3.7/dist-packages/sklearn/svm/_base.py:947: ConvergenceWarning: Liblinear failed to converge, increase the number of iterations.\n",
            "  \"the number of iterations.\", ConvergenceWarning)\n",
            "/usr/local/lib/python3.7/dist-packages/sklearn/svm/_base.py:947: ConvergenceWarning: Liblinear failed to converge, increase the number of iterations.\n",
            "  \"the number of iterations.\", ConvergenceWarning)\n",
            "/usr/local/lib/python3.7/dist-packages/sklearn/svm/_base.py:947: ConvergenceWarning: Liblinear failed to converge, increase the number of iterations.\n",
            "  \"the number of iterations.\", ConvergenceWarning)\n",
            "/usr/local/lib/python3.7/dist-packages/sklearn/svm/_base.py:947: ConvergenceWarning: Liblinear failed to converge, increase the number of iterations.\n",
            "  \"the number of iterations.\", ConvergenceWarning)\n",
            "/usr/local/lib/python3.7/dist-packages/sklearn/svm/_base.py:947: ConvergenceWarning: Liblinear failed to converge, increase the number of iterations.\n",
            "  \"the number of iterations.\", ConvergenceWarning)\n"
          ],
          "name": "stderr"
        },
        {
          "output_type": "stream",
          "text": [
            "Meilleur(s) hyperparamètre(s) sur le jeu d'entraînement:\n",
            "{'estimator__C': 1, 'estimator__penalty': 'l1'}\n",
            "Résultats de la validation croisée :\n",
            "accuracy = 0.170 (+/-0.008) for {'estimator__C': 100, 'estimator__penalty': 'l1'}\n",
            "accuracy = 0.174 (+/-0.005) for {'estimator__C': 100, 'estimator__penalty': 'l2'}\n",
            "accuracy = 0.218 (+/-0.007) for {'estimator__C': 10, 'estimator__penalty': 'l1'}\n",
            "accuracy = 0.224 (+/-0.011) for {'estimator__C': 10, 'estimator__penalty': 'l2'}\n",
            "accuracy = 0.263 (+/-0.002) for {'estimator__C': 1, 'estimator__penalty': 'l1'}\n",
            "accuracy = 0.257 (+/-0.007) for {'estimator__C': 1, 'estimator__penalty': 'l2'}\n",
            "accuracy = 0.113 (+/-0.003) for {'estimator__C': 0.01, 'estimator__penalty': 'l1'}\n",
            "accuracy = 0.097 (+/-0.005) for {'estimator__C': 0.01, 'estimator__penalty': 'l2'}\n",
            "accuracy = 0.081 (+/-0.003) for {'estimator__C': 0.001, 'estimator__penalty': 'l1'}\n",
            "accuracy = 0.081 (+/-0.003) for {'estimator__C': 0.001, 'estimator__penalty': 'l2'}\n"
          ],
          "name": "stdout"
        }
      ]
    },
    {
      "cell_type": "code",
      "metadata": {
        "id": "rdRZsOhF3ygL"
      },
      "source": [
        "ovr_LinearSVC_modele = modele_hyperparametre('OVR + LinearSVC', X_train,y_train, X_test, y_test, ovr_LinearSVC[0], ovr_LinearSVC[1])"
      ],
      "execution_count": null,
      "outputs": []
    },
    {
      "cell_type": "markdown",
      "metadata": {
        "id": "VcWXjqfrf5G4"
      },
      "source": [
        "### One-versus-rest + SGDClassifier()"
      ]
    },
    {
      "cell_type": "code",
      "metadata": {
        "id": "NMWv6DAi3ygL",
        "colab": {
          "base_uri": "https://localhost:8080/"
        },
        "outputId": "be93292b-f01f-4654-bfe0-98e2d7472631"
      },
      "source": [
        "param_grid = {'estimator__alpha' : [10, 1, 0.01, 0.001, 1e-04, 1e-05, 1e-06], 'estimator__penalty' : ['l1', 'l2']}\n",
        "\n",
        "ovr_classifier = OneVsRestClassifier(SGDClassifier(n_jobs=-1))\n",
        "\n",
        "ovr_SGDClassifier = cross_validation(X_train,y_train, param_grid, ovr_classifier, 3)\n",
        "resultats_cross_validation(ovr_SGDClassifier[0], ovr_SGDClassifier[1])"
      ],
      "execution_count": null,
      "outputs": [
        {
          "output_type": "stream",
          "text": [
            "Meilleur(s) hyperparamètre(s) sur le jeu d'entraînement:\n",
            "{'estimator__alpha': 1e-05, 'estimator__penalty': 'l2'}\n",
            "Résultats de la validation croisée :\n",
            "accuracy = 0.083 (+/-0.007) for {'estimator__alpha': 10, 'estimator__penalty': 'l1'}\n",
            "accuracy = 0.083 (+/-0.007) for {'estimator__alpha': 10, 'estimator__penalty': 'l2'}\n",
            "accuracy = 0.083 (+/-0.007) for {'estimator__alpha': 1, 'estimator__penalty': 'l1'}\n",
            "accuracy = 0.083 (+/-0.007) for {'estimator__alpha': 1, 'estimator__penalty': 'l2'}\n",
            "accuracy = 0.083 (+/-0.007) for {'estimator__alpha': 0.01, 'estimator__penalty': 'l1'}\n",
            "accuracy = 0.083 (+/-0.007) for {'estimator__alpha': 0.01, 'estimator__penalty': 'l2'}\n",
            "accuracy = 0.141 (+/-0.011) for {'estimator__alpha': 0.001, 'estimator__penalty': 'l1'}\n",
            "accuracy = 0.108 (+/-0.007) for {'estimator__alpha': 0.001, 'estimator__penalty': 'l2'}\n",
            "accuracy = 0.230 (+/-0.002) for {'estimator__alpha': 0.0001, 'estimator__penalty': 'l1'}\n",
            "accuracy = 0.220 (+/-0.005) for {'estimator__alpha': 0.0001, 'estimator__penalty': 'l2'}\n",
            "accuracy = 0.260 (+/-0.008) for {'estimator__alpha': 1e-05, 'estimator__penalty': 'l1'}\n",
            "accuracy = 0.263 (+/-0.004) for {'estimator__alpha': 1e-05, 'estimator__penalty': 'l2'}\n",
            "accuracy = 0.207 (+/-0.003) for {'estimator__alpha': 1e-06, 'estimator__penalty': 'l1'}\n",
            "accuracy = 0.211 (+/-0.007) for {'estimator__alpha': 1e-06, 'estimator__penalty': 'l2'}\n"
          ],
          "name": "stdout"
        }
      ]
    },
    {
      "cell_type": "code",
      "metadata": {
        "id": "Kkg7h2ZC3ygL"
      },
      "source": [
        "ovr_SGDClassifier_modele = modele_hyperparametre('OVR + SGDClassifier', X_train,y_train, X_test, y_test, ovr_SGDClassifier[0], ovr_SGDClassifier[1])"
      ],
      "execution_count": null,
      "outputs": []
    },
    {
      "cell_type": "markdown",
      "metadata": {
        "id": "Ads_wXdr336w"
      },
      "source": [
        "## Comparaison des modèles"
      ]
    },
    {
      "cell_type": "code",
      "metadata": {
        "id": "iTvgNQKt336x",
        "colab": {
          "base_uri": "https://localhost:8080/",
          "height": 49
        },
        "outputId": "637e46bb-187c-4a78-a9c6-b916c116f1df"
      },
      "source": [
        "tab_resultats = pd.DataFrame(np.nan, index=np.arange(0), columns=['Modèle', 'accuracy_score_train', 'jaccard_score_train', 'F1_score_train', 'accuracy_score_test', 'jaccard_score_test', 'F1_score_test', \n",
        "                                                                  'Temps_calcul_train', 'Temps_calcul_test', 'Hyperparamètre']) \n",
        "tab_resultats"
      ],
      "execution_count": null,
      "outputs": [
        {
          "output_type": "execute_result",
          "data": {
            "text/html": [
              "<div>\n",
              "<style scoped>\n",
              "    .dataframe tbody tr th:only-of-type {\n",
              "        vertical-align: middle;\n",
              "    }\n",
              "\n",
              "    .dataframe tbody tr th {\n",
              "        vertical-align: top;\n",
              "    }\n",
              "\n",
              "    .dataframe thead th {\n",
              "        text-align: right;\n",
              "    }\n",
              "</style>\n",
              "<table border=\"1\" class=\"dataframe\">\n",
              "  <thead>\n",
              "    <tr style=\"text-align: right;\">\n",
              "      <th></th>\n",
              "      <th>Modèle</th>\n",
              "      <th>accuracy_score_train</th>\n",
              "      <th>jaccard_score_train</th>\n",
              "      <th>F1_score_train</th>\n",
              "      <th>accuracy_score_test</th>\n",
              "      <th>jaccard_score_test</th>\n",
              "      <th>F1_score_test</th>\n",
              "      <th>Temps_calcul_train</th>\n",
              "      <th>Temps_calcul_test</th>\n",
              "      <th>Hyperparamètre</th>\n",
              "    </tr>\n",
              "  </thead>\n",
              "  <tbody>\n",
              "  </tbody>\n",
              "</table>\n",
              "</div>"
            ],
            "text/plain": [
              "Empty DataFrame\n",
              "Columns: [Modèle, accuracy_score_train, jaccard_score_train, F1_score_train, accuracy_score_test, jaccard_score_test, F1_score_test, Temps_calcul_train, Temps_calcul_test, Hyperparamètre]\n",
              "Index: []"
            ]
          },
          "metadata": {},
          "execution_count": 70
        }
      ]
    },
    {
      "cell_type": "code",
      "metadata": {
        "id": "E2PYiSPKKQFm",
        "colab": {
          "base_uri": "https://localhost:8080/",
          "height": 141
        },
        "outputId": "f24cb6c0-6685-474e-a82a-2768cc84e417"
      },
      "source": [
        "tab_resultats.loc[0] = ovr_LogisticRegression_modele[0]\n",
        "tab_resultats.loc[1] = ovr_LinearSVC_modele[0]\n",
        "tab_resultats.loc[2] = ovr_SGDClassifier_modele[0]\n",
        "\n",
        "tab_resultats"
      ],
      "execution_count": null,
      "outputs": [
        {
          "output_type": "execute_result",
          "data": {
            "text/html": [
              "<div>\n",
              "<style scoped>\n",
              "    .dataframe tbody tr th:only-of-type {\n",
              "        vertical-align: middle;\n",
              "    }\n",
              "\n",
              "    .dataframe tbody tr th {\n",
              "        vertical-align: top;\n",
              "    }\n",
              "\n",
              "    .dataframe thead th {\n",
              "        text-align: right;\n",
              "    }\n",
              "</style>\n",
              "<table border=\"1\" class=\"dataframe\">\n",
              "  <thead>\n",
              "    <tr style=\"text-align: right;\">\n",
              "      <th></th>\n",
              "      <th>Modèle</th>\n",
              "      <th>accuracy_score_train</th>\n",
              "      <th>jaccard_score_train</th>\n",
              "      <th>F1_score_train</th>\n",
              "      <th>accuracy_score_test</th>\n",
              "      <th>jaccard_score_test</th>\n",
              "      <th>F1_score_test</th>\n",
              "      <th>Temps_calcul_train</th>\n",
              "      <th>Temps_calcul_test</th>\n",
              "      <th>Hyperparamètre</th>\n",
              "    </tr>\n",
              "  </thead>\n",
              "  <tbody>\n",
              "    <tr>\n",
              "      <th>0</th>\n",
              "      <td>OVR + LogisticRegression</td>\n",
              "      <td>0.840617</td>\n",
              "      <td>0.872193</td>\n",
              "      <td>0.931734</td>\n",
              "      <td>0.262470</td>\n",
              "      <td>0.347726</td>\n",
              "      <td>0.516019</td>\n",
              "      <td>0.208552</td>\n",
              "      <td>1.390905</td>\n",
              "      <td>{'estimator__C': 10, 'estimator__penalty': 'l1'}</td>\n",
              "    </tr>\n",
              "    <tr>\n",
              "      <th>1</th>\n",
              "      <td>OVR + LinearSVC</td>\n",
              "      <td>0.462933</td>\n",
              "      <td>0.532033</td>\n",
              "      <td>0.694545</td>\n",
              "      <td>0.269831</td>\n",
              "      <td>0.343444</td>\n",
              "      <td>0.511289</td>\n",
              "      <td>0.246603</td>\n",
              "      <td>1.433820</td>\n",
              "      <td>{'estimator__C': 1, 'estimator__penalty': 'l1'}</td>\n",
              "    </tr>\n",
              "    <tr>\n",
              "      <th>2</th>\n",
              "      <td>OVR + SGDClassifier</td>\n",
              "      <td>0.524446</td>\n",
              "      <td>0.610855</td>\n",
              "      <td>0.758423</td>\n",
              "      <td>0.281321</td>\n",
              "      <td>0.365977</td>\n",
              "      <td>0.535846</td>\n",
              "      <td>0.282892</td>\n",
              "      <td>1.515346</td>\n",
              "      <td>{'estimator__alpha': 1e-05, 'estimator__penalt...</td>\n",
              "    </tr>\n",
              "  </tbody>\n",
              "</table>\n",
              "</div>"
            ],
            "text/plain": [
              "                     Modèle  ...                                     Hyperparamètre\n",
              "0  OVR + LogisticRegression  ...   {'estimator__C': 10, 'estimator__penalty': 'l1'}\n",
              "1           OVR + LinearSVC  ...    {'estimator__C': 1, 'estimator__penalty': 'l1'}\n",
              "2       OVR + SGDClassifier  ...  {'estimator__alpha': 1e-05, 'estimator__penalt...\n",
              "\n",
              "[3 rows x 10 columns]"
            ]
          },
          "metadata": {},
          "execution_count": 71
        }
      ]
    },
    {
      "cell_type": "code",
      "metadata": {
        "id": "iuF05xW3336x",
        "colab": {
          "base_uri": "https://localhost:8080/",
          "height": 1000
        },
        "outputId": "9fd557b6-a2dc-41d1-8d76-a27ec0ae3b2a"
      },
      "source": [
        "plt.figure(1,figsize=(30,30))\n",
        "plt.gcf().subplots_adjust(left = 0.125, bottom = 0.2, right = 1.5,\n",
        "                          top = 0.9, wspace = 0.2, hspace = 0.2)\n",
        "\n",
        "plt.subplot(2,2,1)\n",
        "sns.barplot(x=tab_resultats['Modèle'],y=tab_resultats['accuracy_score_test'])\n",
        "plt.tick_params(axis = 'both', labelsize = 25)\n",
        "plt.ylabel(\"Accuracy Score Test\", fontsize = 30)\n",
        "plt.title('Histogramme de Accuracy Score Test pour Body', fontsize = 30)\n",
        "\n",
        "plt.subplot(2,2,2)\n",
        "sns.barplot(x=tab_resultats['Modèle'],y=tab_resultats['jaccard_score_test'])\n",
        "plt.tick_params(axis = 'both', labelsize = 25)\n",
        "plt.ylabel(\"Jaccard Score Test\", fontsize = 30)\n",
        "plt.title('Histogramme de Jaccard Score Test pour Body', fontsize = 30)\n",
        "\n",
        "plt.subplot(2,2,3)\n",
        "sns.barplot(x=tab_resultats['Modèle'],y=tab_resultats['F1_score_test'])\n",
        "plt.tick_params(axis = 'both', labelsize = 25)\n",
        "plt.ylabel(\"F1 Score Test\", fontsize = 30)\n",
        "plt.title('Histogramme de F1 Score Test pour Body', fontsize = 30)\n",
        "\n",
        "plt.subplot(2,2,4)\n",
        "sns.barplot(x=tab_resultats['Modèle'],y=tab_resultats['Temps_calcul_test'])\n",
        "plt.tick_params(axis = 'both', labelsize = 25)\n",
        "plt.ylabel(\"Temps_calcul Test\", fontsize = 30)\n",
        "plt.title('Histogramme de Temps de calcul Test pour Body', fontsize = 30)\n",
        "\n",
        "plt.show()"
      ],
      "execution_count": null,
      "outputs": [
        {
          "output_type": "display_data",
          "data": {
            "image/png": "[encoded data removed]",
            "text/plain": [
              "<Figure size 2160x2160 with 4 Axes>"
            ]
          },
          "metadata": {
            "needs_background": "light"
          }
        }
      ]
    },
    {
      "cell_type": "markdown",
      "metadata": {
        "id": "ADqG6EbBe1oy"
      },
      "source": [
        "## Sélection du modèle optimal"
      ]
    },
    {
      "cell_type": "code",
      "metadata": {
        "id": "_R7tIxxje7dL"
      },
      "source": [
        "## Modèle OneVsRestClassifier(SGDClassifier()) pour Body\n",
        "\n",
        "modele_final_sup_body = ovr_SGDClassifier[1]"
      ],
      "execution_count": null,
      "outputs": []
    },
    {
      "cell_type": "code",
      "metadata": {
        "colab": {
          "base_uri": "https://localhost:8080/",
          "height": 16
        },
        "id": "FVjR0suDfN1U",
        "outputId": "e04ef0c2-3aed-43d3-b44e-5176af511588"
      },
      "source": [
        "## Exporation du modèle sélectionné pour Body\n",
        "\n",
        "dump(modele_final_sup_body, 'modele_final_sup_body.joblib')\n",
        "files.download('modele_final_sup_body.joblib')"
      ],
      "execution_count": null,
      "outputs": [
        {
          "output_type": "display_data",
          "data": {
            "application/javascript": [
              "\n",
              "    async function download(id, filename, size) {\n",
              "      if (!google.colab.kernel.accessAllowed) {\n",
              "        return;\n",
              "      }\n",
              "      const div = document.createElement('div');\n",
              "      const label = document.createElement('label');\n",
              "      label.textContent = `Downloading \"${filename}\": `;\n",
              "      div.appendChild(label);\n",
              "      const progress = document.createElement('progress');\n",
              "      progress.max = size;\n",
              "      div.appendChild(progress);\n",
              "      document.body.appendChild(div);\n",
              "\n",
              "      const buffers = [];\n",
              "      let downloaded = 0;\n",
              "\n",
              "      const channel = await google.colab.kernel.comms.open(id);\n",
              "      // Send a message to notify the kernel that we're ready.\n",
              "      channel.send({})\n",
              "\n",
              "      for await (const message of channel.messages) {\n",
              "        // Send a message to notify the kernel that we're ready.\n",
              "        channel.send({})\n",
              "        if (message.buffers) {\n",
              "          for (const buffer of message.buffers) {\n",
              "            buffers.push(buffer);\n",
              "            downloaded += buffer.byteLength;\n",
              "            progress.value = downloaded;\n",
              "          }\n",
              "        }\n",
              "      }\n",
              "      const blob = new Blob(buffers, {type: 'application/binary'});\n",
              "      const a = document.createElement('a');\n",
              "      a.href = window.URL.createObjectURL(blob);\n",
              "      a.download = filename;\n",
              "      div.appendChild(a);\n",
              "      a.click();\n",
              "      div.remove();\n",
              "    }\n",
              "  "
            ],
            "text/plain": [
              "<IPython.core.display.Javascript object>"
            ]
          },
          "metadata": {}
        },
        {
          "output_type": "display_data",
          "data": {
            "application/javascript": [
              "download(\"download_f1a73acf-be53-4d15-8f1b-8c3a6f432875\", \"modele_final_sup_body.joblib\", 60672172)"
            ],
            "text/plain": [
              "<IPython.core.display.Javascript object>"
            ]
          },
          "metadata": {}
        }
      ]
    },
    {
      "cell_type": "markdown",
      "metadata": {
        "id": "VCXDd-3oWy5e"
      },
      "source": [
        "# Approche supervisée : Classification des Tags à partir des messages normalisés sur Title"
      ]
    },
    {
      "cell_type": "markdown",
      "metadata": {
        "id": "y_9_aa5tsGXD"
      },
      "source": [
        "## Création des jeux de données"
      ]
    },
    {
      "cell_type": "code",
      "metadata": {
        "colab": {
          "base_uri": "https://localhost:8080/"
        },
        "id": "9tN9I7fHsGXL",
        "outputId": "17f08836-1856-410f-dc4b-f0f7538a6120"
      },
      "source": [
        "## Vectorisation tf-idf des messages Title\n",
        "\n",
        "tf_idf_vec = TfidfVectorizer()\n",
        "tf_idf_data_title = tf_idf_vec.fit_transform(data['Title_nettoye_stopwords'])\n",
        "tf_idf_data_title"
      ],
      "execution_count": null,
      "outputs": [
        {
          "output_type": "execute_result",
          "data": {
            "text/plain": [
              "<48447x19919 sparse matrix of type '<class 'numpy.float64'>'\n",
              "\twith 135077 stored elements in Compressed Sparse Row format>"
            ]
          },
          "metadata": {},
          "execution_count": 11
        }
      ]
    },
    {
      "cell_type": "code",
      "metadata": {
        "colab": {
          "base_uri": "https://localhost:8080/"
        },
        "id": "5vJLJwlzsGXM",
        "outputId": "5219dee7-79a0-4044-ab3f-5a3808c1ff23"
      },
      "source": [
        "tf_idf_data_title.shape"
      ],
      "execution_count": null,
      "outputs": [
        {
          "output_type": "execute_result",
          "data": {
            "text/plain": [
              "(48447, 19919)"
            ]
          },
          "metadata": {},
          "execution_count": 12
        }
      ]
    },
    {
      "cell_type": "code",
      "metadata": {
        "colab": {
          "base_uri": "https://localhost:8080/"
        },
        "id": "icLbPOAesGXM",
        "outputId": "843c974f-29a6-4cd0-8398-eb0d436b7aab"
      },
      "source": [
        "data['Tags_nettoyes_liste'] = data.apply(lambda row : row['Tags_nettoyes'].split(', '), axis=1)\n",
        "target = pd.get_dummies(data['Tags_nettoyes_liste'].apply(pd.Series).stack()).sum(level=0)\n",
        "target = target.iloc[:, 1:]\n",
        "target.shape"
      ],
      "execution_count": null,
      "outputs": [
        {
          "output_type": "execute_result",
          "data": {
            "text/plain": [
              "(48447, 100)"
            ]
          },
          "metadata": {},
          "execution_count": 13
        }
      ]
    },
    {
      "cell_type": "code",
      "metadata": {
        "colab": {
          "base_uri": "https://localhost:8080/"
        },
        "id": "IzYuCQ-DsGXM",
        "outputId": "1f8a3a39-6417-449e-d811-f5454ae431d2"
      },
      "source": [
        "## Séparation en jeu de données d'entrainement et de test\n",
        "\n",
        "X_train, X_test, y_train, y_test = train_test_split(tf_idf_data_title, target, test_size=0.3) # 30% des données dans le jeu de test\n",
        "\n",
        "print(X_train.shape)\n",
        "print(X_test.shape)\n",
        "print(y_train.shape)\n",
        "print(y_test.shape)"
      ],
      "execution_count": null,
      "outputs": [
        {
          "output_type": "stream",
          "name": "stdout",
          "text": [
            "(33912, 19919)\n",
            "(14535, 19919)\n",
            "(33912, 100)\n",
            "(14535, 100)\n"
          ]
        }
      ]
    },
    {
      "cell_type": "markdown",
      "metadata": {
        "id": "Vfcl-WrAqSW6"
      },
      "source": [
        "## Analyse sur le jeu d'entraînement et sélection des hyperparamètres par validation croisée"
      ]
    },
    {
      "cell_type": "markdown",
      "metadata": {
        "id": "1xCXHGwaqSW6"
      },
      "source": [
        "### One-versus-rest + LogisticRegression()"
      ]
    },
    {
      "cell_type": "code",
      "metadata": {
        "id": "rlAlTcQVqSW6",
        "colab": {
          "base_uri": "https://localhost:8080/"
        },
        "outputId": "9b300695-b0a0-42a5-b3a4-7cb01a086723"
      },
      "source": [
        "param_grid = {'estimator__C' : [10, 1, 0.01, 0.001], 'estimator__penalty' : ['l1', 'l2']}\n",
        "\n",
        "ovr_classifier = OneVsRestClassifier(LogisticRegression(n_jobs=-1, solver='saga'))\n",
        "\n",
        "ovr_LogisticRegression = cross_validation(X_train,y_train, param_grid, ovr_classifier, 3)\n",
        "resultats_cross_validation(ovr_LogisticRegression[0], ovr_LogisticRegression[1])"
      ],
      "execution_count": null,
      "outputs": [
        {
          "output_type": "stream",
          "text": [
            "Meilleur(s) hyperparamètre(s) sur le jeu d'entraînement:\n",
            "{'estimator__C': 10, 'estimator__penalty': 'l2'}\n",
            "Résultats de la validation croisée :\n",
            "accuracy = 0.205 (+/-0.006) for {'estimator__C': 10, 'estimator__penalty': 'l1'}\n",
            "accuracy = 0.206 (+/-0.008) for {'estimator__C': 10, 'estimator__penalty': 'l2'}\n",
            "accuracy = 0.201 (+/-0.005) for {'estimator__C': 1, 'estimator__penalty': 'l1'}\n",
            "accuracy = 0.153 (+/-0.009) for {'estimator__C': 1, 'estimator__penalty': 'l2'}\n",
            "accuracy = 0.081 (+/-0.005) for {'estimator__C': 0.01, 'estimator__penalty': 'l1'}\n",
            "accuracy = 0.081 (+/-0.005) for {'estimator__C': 0.01, 'estimator__penalty': 'l2'}\n",
            "accuracy = 0.081 (+/-0.005) for {'estimator__C': 0.001, 'estimator__penalty': 'l1'}\n",
            "accuracy = 0.081 (+/-0.005) for {'estimator__C': 0.001, 'estimator__penalty': 'l2'}\n"
          ],
          "name": "stdout"
        }
      ]
    },
    {
      "cell_type": "code",
      "metadata": {
        "id": "HP6MWDQlqSW7"
      },
      "source": [
        "ovr_LogisticRegression_modele = modele_hyperparametre('OVR + LogisticRegression', X_train,y_train, X_test, y_test, ovr_LogisticRegression[0], ovr_LogisticRegression[1])"
      ],
      "execution_count": null,
      "outputs": []
    },
    {
      "cell_type": "code",
      "metadata": {
        "id": "96c9YvXIqSW7",
        "colab": {
          "base_uri": "https://localhost:8080/"
        },
        "outputId": "e48e1248-670c-4e3d-b2dc-fa559f637129"
      },
      "source": [
        "print(ovr_LogisticRegression_modele[0])"
      ],
      "execution_count": null,
      "outputs": [
        {
          "output_type": "stream",
          "text": [
            "['OVR + LogisticRegression', 0.41439608398207123, 0.4745518843393544, 0.643655729417712, 0.2212590299277606, 0.2582719876017048, 0.41051853676561156, 0.09774910699889006, 1.18448593499852, {'estimator__C': 10, 'estimator__penalty': 'l2'}]\n"
          ],
          "name": "stdout"
        }
      ]
    },
    {
      "cell_type": "markdown",
      "metadata": {
        "id": "MNXhptJHqSW7"
      },
      "source": [
        "### One-versus-rest + LinearSVC()"
      ]
    },
    {
      "cell_type": "code",
      "metadata": {
        "colab": {
          "base_uri": "https://localhost:8080/"
        },
        "id": "4M4YliXTqSW7",
        "outputId": "830e1f21-811b-4571-c498-2c048cad2620"
      },
      "source": [
        "param_grid = {'estimator__C' : [100, 10, 1, 0.01, 0.001], 'estimator__penalty': ['l1', 'l2']}\n",
        "\n",
        "ovr_classifier = OneVsRestClassifier(LinearSVC(dual= False))\n",
        "\n",
        "ovr_LinearSVC = cross_validation(X_train,y_train, param_grid, ovr_classifier, 3)\n",
        "resultats_cross_validation(ovr_LinearSVC[0], ovr_LinearSVC[1])"
      ],
      "execution_count": null,
      "outputs": [
        {
          "output_type": "stream",
          "text": [
            "/usr/local/lib/python3.7/dist-packages/sklearn/svm/_base.py:947: ConvergenceWarning: Liblinear failed to converge, increase the number of iterations.\n",
            "  \"the number of iterations.\", ConvergenceWarning)\n",
            "/usr/local/lib/python3.7/dist-packages/sklearn/svm/_base.py:947: ConvergenceWarning: Liblinear failed to converge, increase the number of iterations.\n",
            "  \"the number of iterations.\", ConvergenceWarning)\n",
            "/usr/local/lib/python3.7/dist-packages/sklearn/svm/_base.py:947: ConvergenceWarning: Liblinear failed to converge, increase the number of iterations.\n",
            "  \"the number of iterations.\", ConvergenceWarning)\n",
            "/usr/local/lib/python3.7/dist-packages/sklearn/svm/_base.py:947: ConvergenceWarning: Liblinear failed to converge, increase the number of iterations.\n",
            "  \"the number of iterations.\", ConvergenceWarning)\n",
            "/usr/local/lib/python3.7/dist-packages/sklearn/svm/_base.py:947: ConvergenceWarning: Liblinear failed to converge, increase the number of iterations.\n",
            "  \"the number of iterations.\", ConvergenceWarning)\n",
            "/usr/local/lib/python3.7/dist-packages/sklearn/svm/_base.py:947: ConvergenceWarning: Liblinear failed to converge, increase the number of iterations.\n",
            "  \"the number of iterations.\", ConvergenceWarning)\n"
          ],
          "name": "stderr"
        },
        {
          "output_type": "stream",
          "text": [
            "Meilleur(s) hyperparamètre(s) sur le jeu d'entraînement:\n",
            "{'estimator__C': 1, 'estimator__penalty': 'l2'}\n",
            "Résultats de la validation croisée :\n",
            "accuracy = 0.152 (+/-0.007) for {'estimator__C': 100, 'estimator__penalty': 'l1'}\n",
            "accuracy = 0.154 (+/-0.005) for {'estimator__C': 100, 'estimator__penalty': 'l2'}\n",
            "accuracy = 0.176 (+/-0.008) for {'estimator__C': 10, 'estimator__penalty': 'l1'}\n",
            "accuracy = 0.187 (+/-0.005) for {'estimator__C': 10, 'estimator__penalty': 'l2'}\n",
            "accuracy = 0.222 (+/-0.007) for {'estimator__C': 1, 'estimator__penalty': 'l1'}\n",
            "accuracy = 0.223 (+/-0.008) for {'estimator__C': 1, 'estimator__penalty': 'l2'}\n",
            "accuracy = 0.092 (+/-0.007) for {'estimator__C': 0.01, 'estimator__penalty': 'l1'}\n",
            "accuracy = 0.086 (+/-0.007) for {'estimator__C': 0.01, 'estimator__penalty': 'l2'}\n",
            "accuracy = 0.082 (+/-0.007) for {'estimator__C': 0.001, 'estimator__penalty': 'l1'}\n",
            "accuracy = 0.082 (+/-0.007) for {'estimator__C': 0.001, 'estimator__penalty': 'l2'}\n"
          ],
          "name": "stdout"
        }
      ]
    },
    {
      "cell_type": "code",
      "metadata": {
        "id": "B1uztqT_qSW7"
      },
      "source": [
        "ovr_LinearSVC_modele = modele_hyperparametre('OVR + LinearSVC', X_train,y_train, X_test, y_test, ovr_LinearSVC[0], ovr_LinearSVC[1])"
      ],
      "execution_count": null,
      "outputs": []
    },
    {
      "cell_type": "code",
      "metadata": {
        "colab": {
          "base_uri": "https://localhost:8080/"
        },
        "id": "saziDalOqSW7",
        "outputId": "e15ff94d-d8ad-4ff0-dfda-4ea365a95283"
      },
      "source": [
        "print(ovr_LinearSVC_modele[0])"
      ],
      "execution_count": null,
      "outputs": [
        {
          "output_type": "stream",
          "text": [
            "['OVR + LinearSVC', 0.5162184477471101, 0.5512678968858981, 0.7107320379575238, 0.23109735122119024, 0.2778977404179841, 0.4349295434657976, 0.11886261399990872, 0.9922427779999907, {'estimator__C': 1, 'estimator__penalty': 'l2'}]\n"
          ],
          "name": "stdout"
        }
      ]
    },
    {
      "cell_type": "markdown",
      "metadata": {
        "id": "gWct6ShkqSW8"
      },
      "source": [
        "### One-versus-rest + SGDClassifier()"
      ]
    },
    {
      "cell_type": "code",
      "metadata": {
        "colab": {
          "base_uri": "https://localhost:8080/"
        },
        "id": "3eTmfKJ0qSW8",
        "outputId": "6ab0ca1e-5f91-4fa7-b368-5eb81873e760"
      },
      "source": [
        "param_grid = {'estimator__alpha' : [10, 1, 0.01, 0.001, 1e-04, 1e-05, 1e-06], 'estimator__penalty' : ['l1', 'l2']}\n",
        "\n",
        "ovr_classifier = OneVsRestClassifier(SGDClassifier(n_jobs=-1))\n",
        "\n",
        "ovr_SGDClassifier = cross_validation(X_train,y_train, param_grid, ovr_classifier, 3)\n",
        "resultats_cross_validation(ovr_SGDClassifier[0], ovr_SGDClassifier[1])"
      ],
      "execution_count": null,
      "outputs": [
        {
          "output_type": "stream",
          "text": [
            "Meilleur(s) hyperparamètre(s) sur le jeu d'entraînement:\n",
            "{'estimator__alpha': 1e-05, 'estimator__penalty': 'l2'}\n",
            "Résultats de la validation croisée :\n",
            "accuracy = 0.080 (+/-0.003) for {'estimator__alpha': 10, 'estimator__penalty': 'l1'}\n",
            "accuracy = 0.080 (+/-0.003) for {'estimator__alpha': 10, 'estimator__penalty': 'l2'}\n",
            "accuracy = 0.080 (+/-0.003) for {'estimator__alpha': 1, 'estimator__penalty': 'l1'}\n",
            "accuracy = 0.080 (+/-0.003) for {'estimator__alpha': 1, 'estimator__penalty': 'l2'}\n",
            "accuracy = 0.080 (+/-0.003) for {'estimator__alpha': 0.01, 'estimator__penalty': 'l1'}\n",
            "accuracy = 0.080 (+/-0.003) for {'estimator__alpha': 0.01, 'estimator__penalty': 'l2'}\n",
            "accuracy = 0.116 (+/-0.003) for {'estimator__alpha': 0.001, 'estimator__penalty': 'l1'}\n",
            "accuracy = 0.096 (+/-0.002) for {'estimator__alpha': 0.001, 'estimator__penalty': 'l2'}\n",
            "accuracy = 0.195 (+/-0.005) for {'estimator__alpha': 0.0001, 'estimator__penalty': 'l1'}\n",
            "accuracy = 0.192 (+/-0.004) for {'estimator__alpha': 0.0001, 'estimator__penalty': 'l2'}\n",
            "accuracy = 0.214 (+/-0.006) for {'estimator__alpha': 1e-05, 'estimator__penalty': 'l1'}\n",
            "accuracy = 0.221 (+/-0.002) for {'estimator__alpha': 1e-05, 'estimator__penalty': 'l2'}\n",
            "accuracy = 0.159 (+/-0.005) for {'estimator__alpha': 1e-06, 'estimator__penalty': 'l1'}\n",
            "accuracy = 0.174 (+/-0.002) for {'estimator__alpha': 1e-06, 'estimator__penalty': 'l2'}\n"
          ],
          "name": "stdout"
        }
      ]
    },
    {
      "cell_type": "code",
      "metadata": {
        "id": "o85MuzhWqSW8"
      },
      "source": [
        "ovr_SGDClassifier_modele = modele_hyperparametre('OVR + SGDClassifier', X_train,y_train, X_test, y_test, ovr_SGDClassifier[0], ovr_SGDClassifier[1])"
      ],
      "execution_count": null,
      "outputs": []
    },
    {
      "cell_type": "code",
      "metadata": {
        "colab": {
          "base_uri": "https://localhost:8080/"
        },
        "id": "C8HBIQSmqSW8",
        "outputId": "ab257d37-0091-463d-d9b0-81ba5c05ad8c"
      },
      "source": [
        "print(ovr_SGDClassifier_modele[0])"
      ],
      "execution_count": null,
      "outputs": [
        {
          "output_type": "stream",
          "text": [
            "['OVR + SGDClassifier', 0.508522057088936, 0.5463993025283348, 0.7066729810793135, 0.24471964224286205, 0.29722043153464034, 0.4582419831038616, 0.11960371600002873, 1.2484459929999048, {'estimator__alpha': 1e-05, 'estimator__penalty': 'l2'}]\n"
          ],
          "name": "stdout"
        }
      ]
    },
    {
      "cell_type": "markdown",
      "metadata": {
        "id": "fHUwgIBFqdgq"
      },
      "source": [
        "## Comparaison des modèles"
      ]
    },
    {
      "cell_type": "code",
      "metadata": {
        "id": "KG2AdVB_qdgq",
        "colab": {
          "base_uri": "https://localhost:8080/",
          "height": 49
        },
        "outputId": "7dcd9fa8-88a4-493a-c76f-1e2237d8ba9d"
      },
      "source": [
        "tab_resultats = pd.DataFrame(np.nan, index=np.arange(0), columns=['Modèle', 'accuracy_score_train', 'jaccard_score_train', 'F1_score_train', 'accuracy_score_test', 'jaccard_score_test', 'F1_score_test', \n",
        "                                                                  'Temps_calcul_train', 'Temps_calcul_test', 'Hyperparamètre']) \n",
        "tab_resultats"
      ],
      "execution_count": null,
      "outputs": [
        {
          "output_type": "execute_result",
          "data": {
            "text/html": [
              "<div>\n",
              "<style scoped>\n",
              "    .dataframe tbody tr th:only-of-type {\n",
              "        vertical-align: middle;\n",
              "    }\n",
              "\n",
              "    .dataframe tbody tr th {\n",
              "        vertical-align: top;\n",
              "    }\n",
              "\n",
              "    .dataframe thead th {\n",
              "        text-align: right;\n",
              "    }\n",
              "</style>\n",
              "<table border=\"1\" class=\"dataframe\">\n",
              "  <thead>\n",
              "    <tr style=\"text-align: right;\">\n",
              "      <th></th>\n",
              "      <th>Modèle</th>\n",
              "      <th>accuracy_score_train</th>\n",
              "      <th>jaccard_score_train</th>\n",
              "      <th>F1_score_train</th>\n",
              "      <th>accuracy_score_test</th>\n",
              "      <th>jaccard_score_test</th>\n",
              "      <th>F1_score_test</th>\n",
              "      <th>Temps_calcul_train</th>\n",
              "      <th>Temps_calcul_test</th>\n",
              "      <th>Hyperparamètre</th>\n",
              "    </tr>\n",
              "  </thead>\n",
              "  <tbody>\n",
              "  </tbody>\n",
              "</table>\n",
              "</div>"
            ],
            "text/plain": [
              "Empty DataFrame\n",
              "Columns: [Modèle, accuracy_score_train, jaccard_score_train, F1_score_train, accuracy_score_test, jaccard_score_test, F1_score_test, Temps_calcul_train, Temps_calcul_test, Hyperparamètre]\n",
              "Index: []"
            ]
          },
          "metadata": {},
          "execution_count": 78
        }
      ]
    },
    {
      "cell_type": "code",
      "metadata": {
        "id": "xuHn0lEVnjPc",
        "colab": {
          "base_uri": "https://localhost:8080/",
          "height": 141
        },
        "outputId": "35273070-81d3-469c-c244-cd0186622e75"
      },
      "source": [
        "tab_resultats.loc[0] = ovr_LogisticRegression_modele[0]\n",
        "tab_resultats.loc[1] = ovr_LinearSVC_modele[0]\n",
        "tab_resultats.loc[2] = ovr_SGDClassifier_modele[0]\n",
        "\n",
        "tab_resultats"
      ],
      "execution_count": null,
      "outputs": [
        {
          "output_type": "execute_result",
          "data": {
            "text/html": [
              "<div>\n",
              "<style scoped>\n",
              "    .dataframe tbody tr th:only-of-type {\n",
              "        vertical-align: middle;\n",
              "    }\n",
              "\n",
              "    .dataframe tbody tr th {\n",
              "        vertical-align: top;\n",
              "    }\n",
              "\n",
              "    .dataframe thead th {\n",
              "        text-align: right;\n",
              "    }\n",
              "</style>\n",
              "<table border=\"1\" class=\"dataframe\">\n",
              "  <thead>\n",
              "    <tr style=\"text-align: right;\">\n",
              "      <th></th>\n",
              "      <th>Modèle</th>\n",
              "      <th>accuracy_score_train</th>\n",
              "      <th>jaccard_score_train</th>\n",
              "      <th>F1_score_train</th>\n",
              "      <th>accuracy_score_test</th>\n",
              "      <th>jaccard_score_test</th>\n",
              "      <th>F1_score_test</th>\n",
              "      <th>Temps_calcul_train</th>\n",
              "      <th>Temps_calcul_test</th>\n",
              "      <th>Hyperparamètre</th>\n",
              "    </tr>\n",
              "  </thead>\n",
              "  <tbody>\n",
              "    <tr>\n",
              "      <th>0</th>\n",
              "      <td>OVR + LogisticRegression</td>\n",
              "      <td>0.414396</td>\n",
              "      <td>0.474552</td>\n",
              "      <td>0.643656</td>\n",
              "      <td>0.221259</td>\n",
              "      <td>0.258272</td>\n",
              "      <td>0.410519</td>\n",
              "      <td>0.097749</td>\n",
              "      <td>1.184486</td>\n",
              "      <td>{'estimator__C': 10, 'estimator__penalty': 'l2'}</td>\n",
              "    </tr>\n",
              "    <tr>\n",
              "      <th>1</th>\n",
              "      <td>OVR + LinearSVC</td>\n",
              "      <td>0.516218</td>\n",
              "      <td>0.551268</td>\n",
              "      <td>0.710732</td>\n",
              "      <td>0.231097</td>\n",
              "      <td>0.277898</td>\n",
              "      <td>0.434930</td>\n",
              "      <td>0.118863</td>\n",
              "      <td>0.992243</td>\n",
              "      <td>{'estimator__C': 1, 'estimator__penalty': 'l2'}</td>\n",
              "    </tr>\n",
              "    <tr>\n",
              "      <th>2</th>\n",
              "      <td>OVR + SGDClassifier</td>\n",
              "      <td>0.512503</td>\n",
              "      <td>0.546903</td>\n",
              "      <td>0.707094</td>\n",
              "      <td>0.237908</td>\n",
              "      <td>0.292967</td>\n",
              "      <td>0.453171</td>\n",
              "      <td>0.105292</td>\n",
              "      <td>0.997184</td>\n",
              "      <td>{'estimator__alpha': 1e-05, 'estimator__penalt...</td>\n",
              "    </tr>\n",
              "  </tbody>\n",
              "</table>\n",
              "</div>"
            ],
            "text/plain": [
              "                     Modèle  ...                                     Hyperparamètre\n",
              "0  OVR + LogisticRegression  ...   {'estimator__C': 10, 'estimator__penalty': 'l2'}\n",
              "1           OVR + LinearSVC  ...    {'estimator__C': 1, 'estimator__penalty': 'l2'}\n",
              "2       OVR + SGDClassifier  ...  {'estimator__alpha': 1e-05, 'estimator__penalt...\n",
              "\n",
              "[3 rows x 10 columns]"
            ]
          },
          "metadata": {},
          "execution_count": 79
        }
      ]
    },
    {
      "cell_type": "code",
      "metadata": {
        "id": "xBc-3H9yqdgq",
        "colab": {
          "base_uri": "https://localhost:8080/",
          "height": 1000
        },
        "outputId": "f6d8d7f1-f53e-429a-8e16-0143c988bdba"
      },
      "source": [
        "plt.figure(1,figsize=(30,30))\n",
        "plt.gcf().subplots_adjust(left = 0.125, bottom = 0.2, right = 1.5,\n",
        "                          top = 0.9, wspace = 0.2, hspace = 0.2)\n",
        "\n",
        "plt.subplot(2,2,1)\n",
        "sns.barplot(x=tab_resultats['Modèle'],y=tab_resultats['accuracy_score_test'])\n",
        "plt.tick_params(axis = 'both', labelsize = 25)\n",
        "plt.ylabel(\"Accuracy Score Test\", fontsize = 30)\n",
        "plt.title('Histogramme de Accuracy Score Test pour Title', fontsize = 30)\n",
        "\n",
        "plt.subplot(2,2,2)\n",
        "sns.barplot(x=tab_resultats['Modèle'],y=tab_resultats['jaccard_score_test'])\n",
        "plt.tick_params(axis = 'both', labelsize = 25)\n",
        "plt.ylabel(\"Jaccard Score Test\", fontsize = 30)\n",
        "plt.title('Histogramme de Jaccard Score Test pour Title', fontsize = 30)\n",
        "\n",
        "plt.subplot(2,2,3)\n",
        "sns.barplot(x=tab_resultats['Modèle'],y=tab_resultats['F1_score_test'])\n",
        "plt.tick_params(axis = 'both', labelsize = 25)\n",
        "plt.ylabel(\"F1 Score Test\", fontsize = 30)\n",
        "plt.title('Histogramme de F1 Score Test pour Title', fontsize = 30)\n",
        "\n",
        "plt.subplot(2,2,4)\n",
        "sns.barplot(x=tab_resultats['Modèle'],y=tab_resultats['Temps_calcul_test'])\n",
        "plt.tick_params(axis = 'both', labelsize = 25)\n",
        "plt.ylabel(\"Temps_calcul Test\", fontsize = 30)\n",
        "plt.title('Histogramme de Temps de calcul Test pour Title', fontsize = 30)\n",
        "\n",
        "plt.show()"
      ],
      "execution_count": null,
      "outputs": [
        {
          "output_type": "display_data",
          "data": {
            "image/png": "[encoded data removed]",
            "text/plain": [
              "<Figure size 2160x2160 with 4 Axes>"
            ]
          },
          "metadata": {
            "needs_background": "light"
          }
        }
      ]
    },
    {
      "cell_type": "markdown",
      "metadata": {
        "id": "RGBHeWJnfhfX"
      },
      "source": [
        "## Sélection du modèle optimal"
      ]
    },
    {
      "cell_type": "code",
      "metadata": {
        "id": "yomaJl9Jfobs"
      },
      "source": [
        "## Modèle OneVsRestClassifier(SGDClassifier()) pour Body\n",
        "\n",
        "modele_final_sup_title = ovr_SGDClassifier[1]"
      ],
      "execution_count": null,
      "outputs": []
    },
    {
      "cell_type": "code",
      "metadata": {
        "colab": {
          "base_uri": "https://localhost:8080/",
          "height": 16
        },
        "id": "sUE6fwgCfpPc",
        "outputId": "64478c37-41ca-4420-f27c-a9a75e6adb06"
      },
      "source": [
        "## Exporation du modèle sélectionné pour Title\n",
        "\n",
        "dump(modele_final_sup_title, 'modele_final_sup_title.joblib')\n",
        "files.download('modele_final_sup_title.joblib')"
      ],
      "execution_count": null,
      "outputs": [
        {
          "output_type": "display_data",
          "data": {
            "application/javascript": [
              "\n",
              "    async function download(id, filename, size) {\n",
              "      if (!google.colab.kernel.accessAllowed) {\n",
              "        return;\n",
              "      }\n",
              "      const div = document.createElement('div');\n",
              "      const label = document.createElement('label');\n",
              "      label.textContent = `Downloading \"${filename}\": `;\n",
              "      div.appendChild(label);\n",
              "      const progress = document.createElement('progress');\n",
              "      progress.max = size;\n",
              "      div.appendChild(progress);\n",
              "      document.body.appendChild(div);\n",
              "\n",
              "      const buffers = [];\n",
              "      let downloaded = 0;\n",
              "\n",
              "      const channel = await google.colab.kernel.comms.open(id);\n",
              "      // Send a message to notify the kernel that we're ready.\n",
              "      channel.send({})\n",
              "\n",
              "      for await (const message of channel.messages) {\n",
              "        // Send a message to notify the kernel that we're ready.\n",
              "        channel.send({})\n",
              "        if (message.buffers) {\n",
              "          for (const buffer of message.buffers) {\n",
              "            buffers.push(buffer);\n",
              "            downloaded += buffer.byteLength;\n",
              "            progress.value = downloaded;\n",
              "          }\n",
              "        }\n",
              "      }\n",
              "      const blob = new Blob(buffers, {type: 'application/binary'});\n",
              "      const a = document.createElement('a');\n",
              "      a.href = window.URL.createObjectURL(blob);\n",
              "      a.download = filename;\n",
              "      div.appendChild(a);\n",
              "      a.click();\n",
              "      div.remove();\n",
              "    }\n",
              "  "
            ],
            "text/plain": [
              "<IPython.core.display.Javascript object>"
            ]
          },
          "metadata": {}
        },
        {
          "output_type": "display_data",
          "data": {
            "application/javascript": [
              "download(\"download_03d58cf7-4991-4287-b8ab-5e99d82bec86\", \"modele_final_sup_title.joblib\", 15983972)"
            ],
            "text/plain": [
              "<IPython.core.display.Javascript object>"
            ]
          },
          "metadata": {}
        }
      ]
    },
    {
      "cell_type": "markdown",
      "metadata": {
        "id": "8uy-Uc6bfREG"
      },
      "source": [
        "# Comparaison des résultats des 2 approches"
      ]
    },
    {
      "cell_type": "code",
      "metadata": {
        "id": "Dxbse_Ubjmmj"
      },
      "source": [
        "## Prédictions sur l'ensemble du DataFrame\n",
        "\n",
        "target_predict_body = pd.DataFrame(modele_final_sup_body.predict(tf_idf_data_body), columns=target.columns)\n",
        "target_predict_title = pd.DataFrame(modele_final_sup_title.predict(tf_idf_data_title), columns=target.columns)"
      ],
      "execution_count": null,
      "outputs": []
    },
    {
      "cell_type": "code",
      "metadata": {
        "id": "mmh-8V-hhPeR"
      },
      "source": [
        "## Tansformation le DataFrame de dummies prédit en liste de Tags\n",
        "\n",
        "def convert_dummie_columns(row):\n",
        "  dummies = pd.DataFrame(row)\n",
        "  dummies = dummies.rename_axis('index').reset_index()\n",
        "  dummies.columns = ['Tags', 'Presence']\n",
        "  Tags_predict = list(dummies[dummies['Presence'] == 1]['Tags'])\n",
        "  return Tags_predict"
      ],
      "execution_count": null,
      "outputs": []
    },
    {
      "cell_type": "code",
      "metadata": {
        "id": "G0mfz66HhPeS"
      },
      "source": [
        "## Prédiction des Tags avec les 2 modèles de l'Approche supervisée\n",
        "\n",
        "data['Tags_predict_Body'] = target_predict_body.apply(lambda row : convert_dummie_columns(row), axis=1)\n",
        "data['Tags_predict_Title'] = target_predict_title.apply(lambda row : convert_dummie_columns(row), axis=1)"
      ],
      "execution_count": null,
      "outputs": []
    },
    {
      "cell_type": "code",
      "metadata": {
        "colab": {
          "base_uri": "https://localhost:8080/"
        },
        "id": "IFd702ndj5gc",
        "outputId": "40af9055-f402-41c2-c1d9-9f26f3a86222"
      },
      "source": [
        "data[['Tags_nettoyes', 'Tags_nettoyes_liste', 'match_Topic_dominant_Body', 'match_Topic_global_Body', 'match_Topic_dominant_Title', 'match_Topic_global_Title', 'Tags_predict_Body', 'Tags_predict_Title']]"
      ],
      "execution_count": null,
      "outputs": [
        {
          "output_type": "execute_result",
          "data": {
            "text/html": [
              "<div>\n",
              "<style scoped>\n",
              "    .dataframe tbody tr th:only-of-type {\n",
              "        vertical-align: middle;\n",
              "    }\n",
              "\n",
              "    .dataframe tbody tr th {\n",
              "        vertical-align: top;\n",
              "    }\n",
              "\n",
              "    .dataframe thead th {\n",
              "        text-align: right;\n",
              "    }\n",
              "</style>\n",
              "<table border=\"1\" class=\"dataframe\">\n",
              "  <thead>\n",
              "    <tr style=\"text-align: right;\">\n",
              "      <th></th>\n",
              "      <th>Tags_nettoyes</th>\n",
              "      <th>Tags_nettoyes_liste</th>\n",
              "      <th>match_Topic_dominant_Body</th>\n",
              "      <th>match_Topic_global_Body</th>\n",
              "      <th>match_Topic_dominant_Title</th>\n",
              "      <th>match_Topic_global_Title</th>\n",
              "      <th>Tags_predict_Body</th>\n",
              "      <th>Tags_predict_Title</th>\n",
              "    </tr>\n",
              "  </thead>\n",
              "  <tbody>\n",
              "    <tr>\n",
              "      <th>0</th>\n",
              "      <td>python</td>\n",
              "      <td>[python]</td>\n",
              "      <td>['text']</td>\n",
              "      <td>['statement', 'text']</td>\n",
              "      <td>['auto']</td>\n",
              "      <td>['auto']</td>\n",
              "      <td>[python]</td>\n",
              "      <td>[python]</td>\n",
              "    </tr>\n",
              "    <tr>\n",
              "      <th>1</th>\n",
              "      <td>python</td>\n",
              "      <td>[python]</td>\n",
              "      <td>['parameters', 'python', 'variables']</td>\n",
              "      <td>['dataset', 'array', 'questions', 'results', '...</td>\n",
              "      <td>[]</td>\n",
              "      <td>[]</td>\n",
              "      <td>[python]</td>\n",
              "      <td>[python, python-3.x]</td>\n",
              "    </tr>\n",
              "    <tr>\n",
              "      <th>2</th>\n",
              "      <td>c++</td>\n",
              "      <td>[c++]</td>\n",
              "      <td>[]</td>\n",
              "      <td>['program', 'check', 'number']</td>\n",
              "      <td>[]</td>\n",
              "      <td>[]</td>\n",
              "      <td>[]</td>\n",
              "      <td>[]</td>\n",
              "    </tr>\n",
              "    <tr>\n",
              "      <th>3</th>\n",
              "      <td>r</td>\n",
              "      <td>[r]</td>\n",
              "      <td>['statements', 'section', 'statement', 'argume...</td>\n",
              "      <td>['part', 'columns', 'functions', 'section', 'v...</td>\n",
              "      <td>[]</td>\n",
              "      <td>[]</td>\n",
              "      <td>[]</td>\n",
              "      <td>[]</td>\n",
              "    </tr>\n",
              "    <tr>\n",
              "      <th>4</th>\n",
              "      <td>python, python-3.x</td>\n",
              "      <td>[python, python-3.x]</td>\n",
              "      <td>['modules', 'release']</td>\n",
              "      <td>['release', 'line', 'python', 'modules']</td>\n",
              "      <td>['attribute']</td>\n",
              "      <td>['attribute']</td>\n",
              "      <td>[python, python-3.x]</td>\n",
              "      <td>[python, python-3.x]</td>\n",
              "    </tr>\n",
              "    <tr>\n",
              "      <th>...</th>\n",
              "      <td>...</td>\n",
              "      <td>...</td>\n",
              "      <td>...</td>\n",
              "      <td>...</td>\n",
              "      <td>...</td>\n",
              "      <td>...</td>\n",
              "      <td>...</td>\n",
              "      <td>...</td>\n",
              "    </tr>\n",
              "    <tr>\n",
              "      <th>48442</th>\n",
              "      <td>ios, swift</td>\n",
              "      <td>[ios, swift]</td>\n",
              "      <td>['controller', 'mode']</td>\n",
              "      <td>['ios', 'mode', 'key', 'support', 'device', 'd...</td>\n",
              "      <td>['mode']</td>\n",
              "      <td>['mode']</td>\n",
              "      <td>[ios, swift]</td>\n",
              "      <td>[]</td>\n",
              "    </tr>\n",
              "    <tr>\n",
              "      <th>48443</th>\n",
              "      <td>android, reactjs, react-native</td>\n",
              "      <td>[android, reactjs, react-native]</td>\n",
              "      <td>['activity']</td>\n",
              "      <td>['android', 'activity', 'react']</td>\n",
              "      <td>[]</td>\n",
              "      <td>['state', 'activity']</td>\n",
              "      <td>[android, react-native, reactjs]</td>\n",
              "      <td>[android]</td>\n",
              "    </tr>\n",
              "    <tr>\n",
              "      <th>48444</th>\n",
              "      <td>javascript, jquery, html, css</td>\n",
              "      <td>[javascript, jquery, html, css]</td>\n",
              "      <td>['background']</td>\n",
              "      <td>['part', 'background', 'page', 'site', 'picture']</td>\n",
              "      <td>[]</td>\n",
              "      <td>[]</td>\n",
              "      <td>[css, html]</td>\n",
              "      <td>[]</td>\n",
              "    </tr>\n",
              "    <tr>\n",
              "      <th>48445</th>\n",
              "      <td>c#, .net</td>\n",
              "      <td>[c#, .net]</td>\n",
              "      <td>['token']</td>\n",
              "      <td>['key', 'documentation', 'libraries', 'notific...</td>\n",
              "      <td>['jwt']</td>\n",
              "      <td>['jwt']</td>\n",
              "      <td>[.net]</td>\n",
              "      <td>[]</td>\n",
              "    </tr>\n",
              "    <tr>\n",
              "      <th>48446</th>\n",
              "      <td>python-3.x</td>\n",
              "      <td>[python-3.x]</td>\n",
              "      <td>['api', 'request']</td>\n",
              "      <td>['jupyter', 'request', 'response', 'minutes', ...</td>\n",
              "      <td>['search']</td>\n",
              "      <td>['search', 'response']</td>\n",
              "      <td>[]</td>\n",
              "      <td>[]</td>\n",
              "    </tr>\n",
              "  </tbody>\n",
              "</table>\n",
              "<p>48447 rows × 8 columns</p>\n",
              "</div>"
            ],
            "text/plain": [
              "                        Tags_nettoyes  ...    Tags_predict_Title\n",
              "0                              python  ...              [python]\n",
              "1                              python  ...  [python, python-3.x]\n",
              "2                                 c++  ...                    []\n",
              "3                                   r  ...                    []\n",
              "4                  python, python-3.x  ...  [python, python-3.x]\n",
              "...                               ...  ...                   ...\n",
              "48442                      ios, swift  ...                    []\n",
              "48443  android, reactjs, react-native  ...             [android]\n",
              "48444   javascript, jquery, html, css  ...                    []\n",
              "48445                        c#, .net  ...                    []\n",
              "48446                      python-3.x  ...                    []\n",
              "\n",
              "[48447 rows x 8 columns]"
            ]
          },
          "metadata": {},
          "execution_count": 43
        }
      ]
    },
    {
      "cell_type": "code",
      "metadata": {
        "id": "9UlmsclkmyjR"
      },
      "source": [
        "## Pourcentage de présence des Tags Stack Overflow dans les prédictions\n",
        "\n",
        "def pourcentage_ressemblance(row, variable):\n",
        "  liste_tags_presents = [i for i in row['Tags_nettoyes_liste'] if i in row[variable]]\n",
        "  pourcentage = len(liste_tags_presents)*100/len(row['Tags_nettoyes_liste'])\n",
        "  return pourcentage\n",
        "\n",
        "data['pourcentage_match_Topic_dominant_Body'] = data.apply(lambda row : pourcentage_ressemblance(row, 'match_Topic_dominant_Body'), axis=1)\n",
        "data['pourcentage_match_Topic_global_Body'] = data.apply(lambda row : pourcentage_ressemblance(row, 'match_Topic_global_Body'), axis=1)\n",
        "data['pourcentage_match_Topic_dominant_Title'] = data.apply(lambda row : pourcentage_ressemblance(row, 'match_Topic_dominant_Title'), axis=1)\n",
        "data['pourcentage_match_Topic_global_Title'] = data.apply(lambda row : pourcentage_ressemblance(row, 'match_Topic_global_Title'), axis=1)\n",
        "data['pourcentage_Tags_predict_Body'] = data.apply(lambda row : pourcentage_ressemblance(row, 'Tags_predict_Body'), axis=1)\n",
        "data['pourcentage_Tags_predict_Title'] = data.apply(lambda row : pourcentage_ressemblance(row, 'Tags_predict_Title'), axis=1)"
      ],
      "execution_count": null,
      "outputs": []
    },
    {
      "cell_type": "code",
      "metadata": {
        "colab": {
          "base_uri": "https://localhost:8080/"
        },
        "id": "6bZQU94Mliym",
        "outputId": "de1367a3-e690-43fa-b262-1fae63a32754"
      },
      "source": [
        "data[['Tags_nettoyes', 'Tags_nettoyes_liste', 'pourcentage_match_Topic_dominant_Body', 'pourcentage_match_Topic_global_Body', 'pourcentage_match_Topic_dominant_Title', 'pourcentage_match_Topic_global_Title', 'pourcentage_Tags_predict_Body', 'pourcentage_Tags_predict_Title']]"
      ],
      "execution_count": null,
      "outputs": [
        {
          "output_type": "execute_result",
          "data": {
            "text/html": [
              "<div>\n",
              "<style scoped>\n",
              "    .dataframe tbody tr th:only-of-type {\n",
              "        vertical-align: middle;\n",
              "    }\n",
              "\n",
              "    .dataframe tbody tr th {\n",
              "        vertical-align: top;\n",
              "    }\n",
              "\n",
              "    .dataframe thead th {\n",
              "        text-align: right;\n",
              "    }\n",
              "</style>\n",
              "<table border=\"1\" class=\"dataframe\">\n",
              "  <thead>\n",
              "    <tr style=\"text-align: right;\">\n",
              "      <th></th>\n",
              "      <th>Tags_nettoyes</th>\n",
              "      <th>Tags_nettoyes_liste</th>\n",
              "      <th>pourcentage_match_Topic_dominant_Body</th>\n",
              "      <th>pourcentage_match_Topic_global_Body</th>\n",
              "      <th>pourcentage_match_Topic_dominant_Title</th>\n",
              "      <th>pourcentage_match_Topic_global_Title</th>\n",
              "      <th>pourcentage_Tags_predict_Body</th>\n",
              "      <th>pourcentage_Tags_predict_Title</th>\n",
              "    </tr>\n",
              "  </thead>\n",
              "  <tbody>\n",
              "    <tr>\n",
              "      <th>0</th>\n",
              "      <td>python</td>\n",
              "      <td>[python]</td>\n",
              "      <td>0.0</td>\n",
              "      <td>0.000000</td>\n",
              "      <td>0.0</td>\n",
              "      <td>0.0</td>\n",
              "      <td>100.0</td>\n",
              "      <td>100.000000</td>\n",
              "    </tr>\n",
              "    <tr>\n",
              "      <th>1</th>\n",
              "      <td>python</td>\n",
              "      <td>[python]</td>\n",
              "      <td>100.0</td>\n",
              "      <td>100.000000</td>\n",
              "      <td>0.0</td>\n",
              "      <td>0.0</td>\n",
              "      <td>100.0</td>\n",
              "      <td>100.000000</td>\n",
              "    </tr>\n",
              "    <tr>\n",
              "      <th>2</th>\n",
              "      <td>c++</td>\n",
              "      <td>[c++]</td>\n",
              "      <td>0.0</td>\n",
              "      <td>0.000000</td>\n",
              "      <td>0.0</td>\n",
              "      <td>0.0</td>\n",
              "      <td>0.0</td>\n",
              "      <td>0.000000</td>\n",
              "    </tr>\n",
              "    <tr>\n",
              "      <th>3</th>\n",
              "      <td>r</td>\n",
              "      <td>[r]</td>\n",
              "      <td>100.0</td>\n",
              "      <td>100.000000</td>\n",
              "      <td>0.0</td>\n",
              "      <td>0.0</td>\n",
              "      <td>0.0</td>\n",
              "      <td>0.000000</td>\n",
              "    </tr>\n",
              "    <tr>\n",
              "      <th>4</th>\n",
              "      <td>python, python-3.x</td>\n",
              "      <td>[python, python-3.x]</td>\n",
              "      <td>0.0</td>\n",
              "      <td>50.000000</td>\n",
              "      <td>0.0</td>\n",
              "      <td>0.0</td>\n",
              "      <td>100.0</td>\n",
              "      <td>100.000000</td>\n",
              "    </tr>\n",
              "    <tr>\n",
              "      <th>...</th>\n",
              "      <td>...</td>\n",
              "      <td>...</td>\n",
              "      <td>...</td>\n",
              "      <td>...</td>\n",
              "      <td>...</td>\n",
              "      <td>...</td>\n",
              "      <td>...</td>\n",
              "      <td>...</td>\n",
              "    </tr>\n",
              "    <tr>\n",
              "      <th>48442</th>\n",
              "      <td>ios, swift</td>\n",
              "      <td>[ios, swift]</td>\n",
              "      <td>0.0</td>\n",
              "      <td>50.000000</td>\n",
              "      <td>0.0</td>\n",
              "      <td>0.0</td>\n",
              "      <td>100.0</td>\n",
              "      <td>0.000000</td>\n",
              "    </tr>\n",
              "    <tr>\n",
              "      <th>48443</th>\n",
              "      <td>android, reactjs, react-native</td>\n",
              "      <td>[android, reactjs, react-native]</td>\n",
              "      <td>0.0</td>\n",
              "      <td>33.333333</td>\n",
              "      <td>0.0</td>\n",
              "      <td>0.0</td>\n",
              "      <td>100.0</td>\n",
              "      <td>33.333333</td>\n",
              "    </tr>\n",
              "    <tr>\n",
              "      <th>48444</th>\n",
              "      <td>javascript, jquery, html, css</td>\n",
              "      <td>[javascript, jquery, html, css]</td>\n",
              "      <td>0.0</td>\n",
              "      <td>0.000000</td>\n",
              "      <td>0.0</td>\n",
              "      <td>0.0</td>\n",
              "      <td>50.0</td>\n",
              "      <td>0.000000</td>\n",
              "    </tr>\n",
              "    <tr>\n",
              "      <th>48445</th>\n",
              "      <td>c#, .net</td>\n",
              "      <td>[c#, .net]</td>\n",
              "      <td>0.0</td>\n",
              "      <td>0.000000</td>\n",
              "      <td>0.0</td>\n",
              "      <td>0.0</td>\n",
              "      <td>50.0</td>\n",
              "      <td>0.000000</td>\n",
              "    </tr>\n",
              "    <tr>\n",
              "      <th>48446</th>\n",
              "      <td>python-3.x</td>\n",
              "      <td>[python-3.x]</td>\n",
              "      <td>0.0</td>\n",
              "      <td>0.000000</td>\n",
              "      <td>0.0</td>\n",
              "      <td>0.0</td>\n",
              "      <td>0.0</td>\n",
              "      <td>0.000000</td>\n",
              "    </tr>\n",
              "  </tbody>\n",
              "</table>\n",
              "<p>48447 rows × 8 columns</p>\n",
              "</div>"
            ],
            "text/plain": [
              "                        Tags_nettoyes  ... pourcentage_Tags_predict_Title\n",
              "0                              python  ...                     100.000000\n",
              "1                              python  ...                     100.000000\n",
              "2                                 c++  ...                       0.000000\n",
              "3                                   r  ...                       0.000000\n",
              "4                  python, python-3.x  ...                     100.000000\n",
              "...                               ...  ...                            ...\n",
              "48442                      ios, swift  ...                       0.000000\n",
              "48443  android, reactjs, react-native  ...                      33.333333\n",
              "48444   javascript, jquery, html, css  ...                       0.000000\n",
              "48445                        c#, .net  ...                       0.000000\n",
              "48446                      python-3.x  ...                       0.000000\n",
              "\n",
              "[48447 rows x 8 columns]"
            ]
          },
          "metadata": {},
          "execution_count": 45
        }
      ]
    },
    {
      "cell_type": "code",
      "metadata": {
        "colab": {
          "base_uri": "https://localhost:8080/"
        },
        "id": "fM1N6_rQrE56",
        "outputId": "0f625f6f-563d-4292-d753-d3e1d0477247"
      },
      "source": [
        "data[['pourcentage_match_Topic_dominant_Body', 'pourcentage_match_Topic_global_Body', 'pourcentage_match_Topic_dominant_Title', 'pourcentage_match_Topic_global_Title', 'pourcentage_Tags_predict_Body', 'pourcentage_Tags_predict_Title']].describe(include='all')"
      ],
      "execution_count": null,
      "outputs": [
        {
          "output_type": "execute_result",
          "data": {
            "text/html": [
              "<div>\n",
              "<style scoped>\n",
              "    .dataframe tbody tr th:only-of-type {\n",
              "        vertical-align: middle;\n",
              "    }\n",
              "\n",
              "    .dataframe tbody tr th {\n",
              "        vertical-align: top;\n",
              "    }\n",
              "\n",
              "    .dataframe thead th {\n",
              "        text-align: right;\n",
              "    }\n",
              "</style>\n",
              "<table border=\"1\" class=\"dataframe\">\n",
              "  <thead>\n",
              "    <tr style=\"text-align: right;\">\n",
              "      <th></th>\n",
              "      <th>pourcentage_match_Topic_dominant_Body</th>\n",
              "      <th>pourcentage_match_Topic_global_Body</th>\n",
              "      <th>pourcentage_match_Topic_dominant_Title</th>\n",
              "      <th>pourcentage_match_Topic_global_Title</th>\n",
              "      <th>pourcentage_Tags_predict_Body</th>\n",
              "      <th>pourcentage_Tags_predict_Title</th>\n",
              "    </tr>\n",
              "  </thead>\n",
              "  <tbody>\n",
              "    <tr>\n",
              "      <th>count</th>\n",
              "      <td>48447.000000</td>\n",
              "      <td>48447.000000</td>\n",
              "      <td>48447.000000</td>\n",
              "      <td>48447.000000</td>\n",
              "      <td>48447.000000</td>\n",
              "      <td>48447.000000</td>\n",
              "    </tr>\n",
              "    <tr>\n",
              "      <th>mean</th>\n",
              "      <td>17.397603</td>\n",
              "      <td>31.693328</td>\n",
              "      <td>13.965983</td>\n",
              "      <td>17.863714</td>\n",
              "      <td>62.300142</td>\n",
              "      <td>48.092348</td>\n",
              "    </tr>\n",
              "    <tr>\n",
              "      <th>std</th>\n",
              "      <td>35.092636</td>\n",
              "      <td>41.438861</td>\n",
              "      <td>32.597717</td>\n",
              "      <td>35.247951</td>\n",
              "      <td>43.573406</td>\n",
              "      <td>45.362515</td>\n",
              "    </tr>\n",
              "    <tr>\n",
              "      <th>min</th>\n",
              "      <td>0.000000</td>\n",
              "      <td>0.000000</td>\n",
              "      <td>0.000000</td>\n",
              "      <td>0.000000</td>\n",
              "      <td>0.000000</td>\n",
              "      <td>0.000000</td>\n",
              "    </tr>\n",
              "    <tr>\n",
              "      <th>25%</th>\n",
              "      <td>0.000000</td>\n",
              "      <td>0.000000</td>\n",
              "      <td>0.000000</td>\n",
              "      <td>0.000000</td>\n",
              "      <td>0.000000</td>\n",
              "      <td>0.000000</td>\n",
              "    </tr>\n",
              "    <tr>\n",
              "      <th>50%</th>\n",
              "      <td>0.000000</td>\n",
              "      <td>0.000000</td>\n",
              "      <td>0.000000</td>\n",
              "      <td>0.000000</td>\n",
              "      <td>100.000000</td>\n",
              "      <td>50.000000</td>\n",
              "    </tr>\n",
              "    <tr>\n",
              "      <th>75%</th>\n",
              "      <td>0.000000</td>\n",
              "      <td>50.000000</td>\n",
              "      <td>0.000000</td>\n",
              "      <td>0.000000</td>\n",
              "      <td>100.000000</td>\n",
              "      <td>100.000000</td>\n",
              "    </tr>\n",
              "    <tr>\n",
              "      <th>max</th>\n",
              "      <td>100.000000</td>\n",
              "      <td>100.000000</td>\n",
              "      <td>100.000000</td>\n",
              "      <td>100.000000</td>\n",
              "      <td>100.000000</td>\n",
              "      <td>100.000000</td>\n",
              "    </tr>\n",
              "  </tbody>\n",
              "</table>\n",
              "</div>"
            ],
            "text/plain": [
              "       pourcentage_match_Topic_dominant_Body  ...  pourcentage_Tags_predict_Title\n",
              "count                           48447.000000  ...                    48447.000000\n",
              "mean                               17.397603  ...                       48.092348\n",
              "std                                35.092636  ...                       45.362515\n",
              "min                                 0.000000  ...                        0.000000\n",
              "25%                                 0.000000  ...                        0.000000\n",
              "50%                                 0.000000  ...                       50.000000\n",
              "75%                                 0.000000  ...                      100.000000\n",
              "max                               100.000000  ...                      100.000000\n",
              "\n",
              "[8 rows x 6 columns]"
            ]
          },
          "metadata": {},
          "execution_count": 46
        }
      ]
    },
    {
      "cell_type": "code",
      "metadata": {
        "colab": {
          "base_uri": "https://localhost:8080/"
        },
        "id": "ZN3p4qqykSMy",
        "outputId": "6be39382-bb09-4f9a-9651-5cc4203fa35f"
      },
      "source": [
        "## Boxplot des pourcentages de prédiction de toutes les approches\n",
        "\n",
        "plt.rcParams[\"figure.figsize\"] = (10, 10)\n",
        "sns.boxplot(data = data[['pourcentage_match_Topic_dominant_Body', 'pourcentage_match_Topic_global_Body', 'pourcentage_match_Topic_dominant_Title', 'pourcentage_match_Topic_global_Title', 'pourcentage_Tags_predict_Body', 'pourcentage_Tags_predict_Title']], \n",
        "            orient=\"h\", palette=\"Set2\").set_title('Boxplot des pourcentages de prédiction de chaque approche')"
      ],
      "execution_count": null,
      "outputs": [
        {
          "output_type": "execute_result",
          "data": {
            "text/plain": [
              "Text(0.5, 1.0, 'Boxplot des pourcentages de prédiction de chaque approche')"
            ]
          },
          "metadata": {},
          "execution_count": 47
        },
        {
          "output_type": "display_data",
          "data": {
            "image/png": "[encoded data removed]",
            "text/plain": [
              "<Figure size 720x720 with 1 Axes>"
            ]
          },
          "metadata": {
            "needs_background": "light"
          }
        }
      ]
    }
  ]
}